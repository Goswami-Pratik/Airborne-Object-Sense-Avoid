{
 "cells": [
  {
   "cell_type": "markdown",
   "id": "5bfdf956",
   "metadata": {},
   "source": [
    "# Setting Up"
   ]
  },
  {
   "cell_type": "code",
   "execution_count": 1,
   "id": "aecf05a3",
   "metadata": {
    "scrolled": true
   },
   "outputs": [],
   "source": [
    "import json\n",
    "import random\n",
    "import os, sys\n",
    "import numpy as np\n",
    "import seaborn as sns\n",
    "import matplotlib.pyplot as plt\n",
    "plt.rcParams[\"figure.figsize\"]=25,25\n",
    "from random import randrange, choice\n",
    "from IPython.display import display, clear_output, HTML\n",
    "from loguru import logger\n",
    "os.environ[\"KMP_DUPLICATE_LIB_OK\"]=\"TRUE\"\n",
    "\n",
    "#homeDir = \"D:\\\\FYP\\\\\"\n",
    "homeDir = \"A:\\\\University\\\\Final-Year-Project-AI\\\\\""
   ]
  },
  {
   "cell_type": "code",
   "execution_count": null,
   "id": "e9152946",
   "metadata": {
    "scrolled": true
   },
   "outputs": [],
   "source": [
    "sys.path.append(os.path.dirname(os.path.realpath(os.getcwd())))\n",
    "sys.path.append(os.path.dirname(os.path.realpath(os.getcwd())) + \"/core\")\n",
    "\n",
    "# Install the required package\n",
    "!pip install -r ../requirements.txt\n",
    "\n",
    "from core.dataset import Dataset\n",
    "\n",
    "# Clearing the output\n",
    "clear_output()"
   ]
  },
  {
   "cell_type": "code",
   "execution_count": null,
   "id": "14db4777",
   "metadata": {
    "scrolled": true
   },
   "outputs": [],
   "source": [
    "from core.helper import initialise, load_data\n",
    "\n",
    "# Initialize the enviroment\n",
    "initialise(42)\n",
    "\n",
    "print(os.getcwd())\n",
    "#dataset = load_data()\n",
    "notebook_path = os.path.dirname(os.path.realpath(\"__file__\")) + \"/data\"\n",
    "local_path = notebook_path + '/part1'\n",
    "s3_path = 's3://airborne-obj-detection-challenge-training/part1/'\n",
    "dataset = Dataset(local_path, s3_path, partial=True, prefix=\"part1\")\n",
    "local_path = notebook_path + '/part2'\n",
    "s3_path = 's3://airborne-obj-detection-challenge-training/part2/'\n",
    "dataset.add(local_path, s3_path, prefix=\"part2\")\n",
    "\n",
    "# Print out the dataset\n",
    "print(dataset)"
   ]
  },
  {
   "cell_type": "markdown",
   "id": "d6325dcf",
   "metadata": {},
   "source": [
    "## Create Training Dataset for Yolo models"
   ]
  },
  {
   "cell_type": "code",
   "execution_count": 2,
   "id": "798d1c27",
   "metadata": {
    "scrolled": true
   },
   "outputs": [
    {
     "name": "stdout",
     "output_type": "stream",
     "text": [
      "Setup complete. Using torch 1.10.1+cu113 (Quadro M520)\n"
     ]
    }
   ],
   "source": [
    "# Warning: Clone only if base YOLOv5 repo isnt downloaded (in notebooks folder)\n",
    "# !git clone https://github.com/ultralytics/yolov5\n",
    "# os.chdir(\"yolov5\")\n",
    "\n",
    "os.chdir(homeDir + \"object-sense-avoid-ai\\\\notebooks\\\\yolov5\")\n",
    "\n",
    "# Install the required dependences\n",
    "%pip install -r requirements.txt\n",
    "\n",
    "# Import Pytorch\n",
    "import torch\n",
    "from IPython.display import Image, clear_output\n",
    "\n",
    "# Clear output console\n",
    "clear_output()\n",
    "\n",
    "# Print out the working enviroment\n",
    "print(f\"Setup complete. Using torch {torch.__version__} ({torch.cuda.get_device_properties(0).name if torch.cuda.is_available() else 'CPU'})\")"
   ]
  },
  {
   "cell_type": "code",
   "execution_count": null,
   "id": "ad784a7a",
   "metadata": {
    "scrolled": true
   },
   "outputs": [],
   "source": [
    "print(os.getcwd())\n",
    "if os.getcwd() != homeDir + \"object-sense-avoid-ai\\\\notebooks\\\\data\":\n",
    "    os.chdir(\"./data\")\n",
    "\n",
    "flightBatchSize = 10;\n",
    "    \n",
    "flight_ids = dataset.get_flight_ids()\n",
    "# while flightBatchSize < 20:\n",
    "#     #for flight in flight_ids:\n",
    "#     currentFlight = dataset.get_flight(flight_ids[flightBatchSize])\n",
    "#     #if currentFlight.num_airborne_objs >= 2:\n",
    "#     logger.info(\"Downloading Flight: {}\", currentFlight)\n",
    "#     currentFlight.download()\n",
    "#     logger.info(\"Download Completed\")\n",
    "#     flightBatchSize += 1\n"
   ]
  },
  {
   "cell_type": "code",
   "execution_count": null,
   "id": "65732a08",
   "metadata": {
    "scrolled": false
   },
   "outputs": [],
   "source": [
    "from core.yolo_data import Yolo_Data\n",
    "\n",
    "# Create an instance\n",
    "yolo_data = Yolo_Data()\n",
    "# Generate training datas and labels\n",
    "yolo_data.generate_data(dataset)"
   ]
  },
  {
   "cell_type": "code",
   "execution_count": null,
   "id": "8f24ee4c",
   "metadata": {},
   "outputs": [],
   "source": [
    "# os.chdir(homeDir + \"object-sense-avoid-ai\\\\notebooks\\\\yolov5\\\\data\")\n",
    "# if not os.path.exists(\"object-sense-avoid-ai/notebooks/yolov5/data/obj\"):\n",
    "#     open(homeDir + \"object-sense-avoid-ai/notebooks/yolov5/data/obj\", 'a').close()"
   ]
  },
  {
   "cell_type": "code",
   "execution_count": null,
   "id": "b09e63af",
   "metadata": {},
   "outputs": [],
   "source": [
    "os.chdir(homeDir + \"object-sense-avoid-ai\\\\notebooks\\\\yolov5\\\\data\")"
   ]
  },
  {
   "cell_type": "code",
   "execution_count": null,
   "id": "294f6cd2",
   "metadata": {},
   "outputs": [],
   "source": [
    "%%file aot.yaml\n",
    "path: A:/University/Final-Year-Project-AI/object-sense-avoid-ai/notebooks/yolov5/data/\n",
    "train: train.txt\n",
    "val: train.txt\n",
    "test: test.txt\n",
    "nc: 6\n",
    "names: ['Airplane', 'Helicopter', 'Drone', 'Airborne', 'Flock', 'Bird']"
   ]
  },
  {
   "cell_type": "code",
   "execution_count": null,
   "id": "ba521de0",
   "metadata": {},
   "outputs": [],
   "source": [
    "# %%file aot.yaml\n",
    "# path: D:/FYP/object-sense-avoid-ai/notebooks/yolov5/data/\n",
    "# train: train.txt\n",
    "# val: train.txt\n",
    "# test: test.txt\n",
    "# nc: 6\n",
    "# names: ['Airplane', 'Helicopter', 'Drone', 'Airborne', 'Flock', 'Bird']"
   ]
  },
  {
   "cell_type": "markdown",
   "id": "ccb13dda",
   "metadata": {},
   "source": [
    "## Selecting a model & training model on AOT Dataset"
   ]
  },
  {
   "cell_type": "code",
   "execution_count": null,
   "id": "09f88bea",
   "metadata": {},
   "outputs": [],
   "source": [
    "# # https://wandb.ai\n",
    "# # Install wandb\n",
    "# !pip install wandb\n",
    "# # Clear the output\n",
    "# clear_output()"
   ]
  },
  {
   "cell_type": "code",
   "execution_count": 6,
   "id": "0985b40d",
   "metadata": {
    "scrolled": true
   },
   "outputs": [
    {
     "name": "stdout",
     "output_type": "stream",
     "text": [
      "The tensorboard extension is already loaded. To reload it, use:\n",
      "  %reload_ext tensorboard\n"
     ]
    },
    {
     "data": {
      "text/plain": [
       "Reusing TensorBoard on port 6006 (pid 7128), started 1 day, 20:36:33 ago. (Use '!kill 7128' to kill it.)"
      ]
     },
     "metadata": {},
     "output_type": "display_data"
    },
    {
     "data": {
      "text/html": [
       "\n",
       "      <iframe id=\"tensorboard-frame-5b163f805dafed4a\" width=\"100%\" height=\"800\" frameborder=\"0\">\n",
       "      </iframe>\n",
       "      <script>\n",
       "        (function() {\n",
       "          const frame = document.getElementById(\"tensorboard-frame-5b163f805dafed4a\");\n",
       "          const url = new URL(\"/\", window.location);\n",
       "          const port = 6006;\n",
       "          if (port) {\n",
       "            url.port = port;\n",
       "          }\n",
       "          frame.src = url;\n",
       "        })();\n",
       "      </script>\n",
       "    "
      ],
      "text/plain": [
       "<IPython.core.display.HTML object>"
      ]
     },
     "metadata": {},
     "output_type": "display_data"
    }
   ],
   "source": [
    "# http://localhost:6006/\n",
    "# Tensorboard (optional)\n",
    "%load_ext tensorboard\n",
    "# Access the training directory\n",
    "%tensorboard --logdir runs/train"
   ]
  },
  {
   "cell_type": "code",
   "execution_count": 3,
   "id": "f86818bd",
   "metadata": {
    "scrolled": false
   },
   "outputs": [
    {
     "name": "stdout",
     "output_type": "stream",
     "text": [
      "\u001b[34m\u001b[1mgithub: \u001b[0mskipping check (not a git repository), for updates see https://github.com/ultralytics/yolov5\n",
      "\n",
      "module 'signal' has no attribute 'SIGALRM'\n"
     ]
    },
    {
     "name": "stderr",
     "output_type": "stream",
     "text": [
      "wandb: Currently logged in as: pgosw (use `wandb login --relogin` to force relogin)\n",
      "\u001b[34m\u001b[1mtrain: \u001b[0mweights=yolov5s.pt, cfg=, data=aot.yaml, hyp=..\\data\\hyps\\hyp.scratch.yaml, epochs=5, batch_size=1, imgsz=2432, rect=False, resume=False, nosave=False, noval=False, noautoanchor=False, evolve=None, bucket=, cache=None, image_weights=False, device=, multi_scale=False, single_cls=False, optimizer=SGD, sync_bn=False, workers=8, project=..\\runs\\train, name=exp, exist_ok=False, quad=False, linear_lr=False, label_smoothing=0.0, patience=100, freeze=[0], save_period=-1, local_rank=-1, entity=None, upload_dataset=False, bbox_interval=-1, artifact_alias=latest\n",
      "YOLOv5  0490ead torch 1.10.1+cu113 CPU\n",
      "\n",
      "\u001b[34m\u001b[1mhyperparameters: \u001b[0mlr0=0.01, lrf=0.1, momentum=0.937, weight_decay=0.0005, warmup_epochs=3.0, warmup_momentum=0.8, warmup_bias_lr=0.1, box=0.05, cls=0.5, cls_pw=1.0, obj=1.0, obj_pw=1.0, iou_t=0.2, anchor_t=4.0, fl_gamma=0.0, hsv_h=0.015, hsv_s=0.7, hsv_v=0.4, degrees=0.0, translate=0.1, scale=0.5, shear=0.0, perspective=0.0, flipud=0.0, fliplr=0.5, mosaic=1.0, mixup=0.0, copy_paste=0.0\n"
     ]
    },
    {
     "name": "stdout",
     "output_type": "stream",
     "text": [
      "\n"
     ]
    },
    {
     "name": "stderr",
     "output_type": "stream",
     "text": [
      "\u001b[34m\u001b[1mTensorBoard: \u001b[0mStart with 'tensorboard --logdir ..\\runs\\train', view at http://localhost:6006/\n",
      "wandb: wandb version 0.12.10 is available!  To upgrade, please run:\n",
      "wandb:  $ pip install wandb --upgrade\n",
      "wandb: Tracking run with wandb version 0.12.9\n",
      "wandb: Syncing run lucky-sun-29\n",
      "wandb:  View project at https://wandb.ai/pgosw/train\n",
      "wandb:  View run at https://wandb.ai/pgosw/train/runs/2potb7wz\n",
      "wandb: Run data is saved locally in D:\\FYP\\object-sense-avoid-ai\\notebooks\\yolov5\\data\\wandb\\run-20220204_155433-2potb7wz\n",
      "wandb: Run `wandb offline` to turn off syncing.\n",
      "Overriding model.yaml nc=80 with nc=6\n",
      "\n",
      "                 from  n    params  module                                  arguments                     \n",
      "  0                -1  1      3520  models.common.Conv                      [3, 32, 6, 2, 2]              \n",
      "  1                -1  1     18560  models.common.Conv                      [32, 64, 3, 2]                \n",
      "  2                -1  1     18816  models.common.C3                        [64, 64, 1]                   \n",
      "  3                -1  1     73984  models.common.Conv                      [64, 128, 3, 2]               \n",
      "  4                -1  2    115712  models.common.C3                        [128, 128, 2]                 \n",
      "  5                -1  1    295424  models.common.Conv                      [128, 256, 3, 2]              \n",
      "  6                -1  3    625152  models.common.C3                        [256, 256, 3]                 \n",
      "  7                -1  1   1180672  models.common.Conv                      [256, 512, 3, 2]              \n",
      "  8                -1  1   1182720  models.common.C3                        [512, 512, 1]                 \n",
      "  9                -1  1    656896  models.common.SPPF                      [512, 512, 5]                 \n",
      " 10                -1  1    131584  models.common.Conv                      [512, 256, 1, 1]              \n",
      " 11                -1  1         0  torch.nn.modules.upsampling.Upsample    [None, 2, 'nearest']          \n",
      " 12           [-1, 6]  1         0  models.common.Concat                    [1]                           \n",
      " 13                -1  1    361984  models.common.C3                        [512, 256, 1, False]          \n",
      " 14                -1  1     33024  models.common.Conv                      [256, 128, 1, 1]              \n",
      " 15                -1  1         0  torch.nn.modules.upsampling.Upsample    [None, 2, 'nearest']          \n",
      " 16           [-1, 4]  1         0  models.common.Concat                    [1]                           \n",
      " 17                -1  1     90880  models.common.C3                        [256, 128, 1, False]          \n",
      " 18                -1  1    147712  models.common.Conv                      [128, 128, 3, 2]              \n",
      " 19          [-1, 14]  1         0  models.common.Concat                    [1]                           \n",
      " 20                -1  1    296448  models.common.C3                        [256, 256, 1, False]          \n",
      " 21                -1  1    590336  models.common.Conv                      [256, 256, 3, 2]              \n",
      " 22          [-1, 10]  1         0  models.common.Concat                    [1]                           \n",
      " 23                -1  1   1182720  models.common.C3                        [512, 512, 1, False]          \n",
      " 24      [17, 20, 23]  1     29667  models.yolo.Detect                      [6, [[10, 13, 16, 30, 33, 23], [30, 61, 62, 45, 59, 119], [116, 90, 156, 198, 373, 326]], [128, 256, 512]]\n",
      "Model Summary: 270 layers, 7035811 parameters, 7035811 gradients, 15.9 GFLOPs\n",
      "\n",
      "Transferred 343/349 items from yolov5s.pt\n",
      "Scaled weight_decay = 0.0005\n",
      "\u001b[34m\u001b[1moptimizer:\u001b[0m SGD with parameter groups 57 weight (no decay), 60 weight, 60 bias\n",
      "\n",
      "\u001b[34m\u001b[1mtrain: \u001b[0mScanning 'D:\\FYP\\object-sense-avoid-ai\\notebooks\\yolov5\\data\\train' images and labels...:   0%|          | 0/69 [00:00<?, ?it/s]wandb: Currently logged in as: pgosw (use `wandb login --relogin` to force relogin)\n",
      "\n",
      "\u001b[34m\u001b[1mtrain: \u001b[0mScanning 'D:\\FYP\\object-sense-avoid-ai\\notebooks\\yolov5\\data\\train' images and labels...1 found, 0 missing, 0 empty, 0 corrupt:   1%|1         | 1/69 [00:09<11:00,  9.72s/it]wandb: Currently logged in as: pgosw (use `wandb login --relogin` to force relogin)\n",
      "wandb: Currently logged in as: pgosw (use `wandb login --relogin` to force relogin)\n",
      "wandb: Currently logged in as: pgosw (use `wandb login --relogin` to force relogin)\n"
     ]
    }
   ],
   "source": [
    "os.chdir(homeDir + \"object-sense-avoid-ai\\\\notebooks\\\\yolov5\\\\data\")\n",
    "!python ../train.py --img 1024 --batch 1 --epochs 5 --data aot.yaml --weights yolov5s.pt"
   ]
  }
 ],
 "metadata": {
  "kernelspec": {
   "display_name": "Python 3 (ipykernel)",
   "language": "python",
   "name": "python3"
  },
  "language_info": {
   "codemirror_mode": {
    "name": "ipython",
    "version": 3
   },
   "file_extension": ".py",
   "mimetype": "text/x-python",
   "name": "python",
   "nbconvert_exporter": "python",
   "pygments_lexer": "ipython3",
   "version": "3.9.7"
  }
 },
 "nbformat": 4,
 "nbformat_minor": 5
}
